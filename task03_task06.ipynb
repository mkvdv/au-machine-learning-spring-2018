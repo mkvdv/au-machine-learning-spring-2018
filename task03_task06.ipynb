{
 "cells": [
  {
   "cell_type": "code",
   "execution_count": 1,
   "metadata": {},
   "outputs": [
    {
     "name": "stdout",
     "output_type": "stream",
     "text": [
      "Hello, HW 03!\n"
     ]
    }
   ],
   "source": [
    "% matplotlib inline\n",
    "print(\"Hello, HW 03!\")"
   ]
  },
  {
   "cell_type": "code",
   "execution_count": 7,
   "metadata": {},
   "outputs": [],
   "source": [
    "def unique_vals(df: pd.DataFrame, col_name: str):\n",
    "    \"\"\"Find the unique values for a column in a dataset.\"\"\"\n",
    "    uniq, counts = np.unique(df[col_name], return_counts=True)\n",
    "    return uniq, counts\n",
    "\n",
    "\n",
    "def class_counts(df: pd.DataFrame):\n",
    "    \"\"\"Counts the number of each type of example in a dataset.\"\"\"\n",
    "    uniq, counts = unique_vals(df, 'label')\n",
    "    # dct = {}\n",
    "    # for i in range(uniq.shape[0]):\n",
    "    #     dct[uniq[i]] = counts[i]\n",
    "\n",
    "    return uniq, counts"
   ]
  },
  {
   "cell_type": "code",
   "execution_count": 8,
   "metadata": {},
   "outputs": [],
   "source": [
    "class Question:\n",
    "    \"\"\"A Question is used to partition a dataset.\n",
    "\n",
    "    This class just records a column name  and an a value for treshhold. \n",
    "    The 'match' method is used to compare\n",
    "    the feature value in an example to the feature value stored in the\n",
    "    question.\n",
    "    \"\"\"\n",
    "\n",
    "    def __init__(self, column_name: str, value: float):\n",
    "        self.column_name = column_name\n",
    "        self.value = value\n",
    "\n",
    "    def match(self, row: pd.DataFrame):\n",
    "        # Compare the feature value in an example to the\n",
    "        # feature value in this question.\n",
    "        # TODO FIX ME FOR WORK FOR THE WHOLE COLUMN\n",
    "        assert len(row.shape) == 1\n",
    "\n",
    "        val = row[self.column_name]\n",
    "        return val >= self.value\n",
    "\n",
    "    def __repr__(self):\n",
    "        # This is just a helper method to print\n",
    "        # the question in a readable format.\n",
    "        return \"Is \\'{}\\' >= {}?\".format(self.column_name, self.value)"
   ]
  },
  {
   "cell_type": "code",
   "execution_count": 9,
   "metadata": {},
   "outputs": [],
   "source": [
    "def partition(df: pd.DataFrame, question: Question):\n",
    "    \"\"\"Partitions a dataset.\n",
    "    For each row in the dataset, check if it matches the question. If\n",
    "    so, add it to 'true rows', otherwise, add it to 'false rows'.\n",
    "    \"\"\"\n",
    "\n",
    "    true_df = df.loc[df[question.column_name] >= question.value]\n",
    "    false_df = df.loc[df[question.column_name] < question.value]\n",
    "\n",
    "    return true_df, false_df\n"
   ]
  },
  {
   "cell_type": "code",
   "execution_count": 10,
   "metadata": {},
   "outputs": [],
   "source": [
    "from types import *\n",
    "\n",
    "def gini(df: pd.DataFrame):\n",
    "    \"\"\"Calculate the Gini Impurity for a list of rows.\n",
    "    2nd metrica for IG\n",
    "    https://en.wikipedia.org/wiki/Decision_tree_learning#Gini_impurity\n",
    "    \"\"\"\n",
    "\n",
    "    _, counts = class_counts(df)\n",
    "    return 1 - ((counts / float(len(df))) ** 2).sum()\n",
    "\n",
    "\n",
    "def entropy(df: pd.DataFrame):\n",
    "    \"\"\"1st metrica for IG\"\"\"\n",
    "    from scipy.stats import entropy\n",
    "    _, counts = class_counts(df)\n",
    "    probabilities = counts / len(df)\n",
    "    return entropy(probabilities)\n",
    "\n",
    "\n",
    "def info_gain(current_uncertainty: float, parent: pd.DataFrame,\n",
    "              left: pd.DataFrame, right: pd.DataFrame,\n",
    "              metrica: FunctionType):\n",
    "    \"\"\"Information Gain.\n",
    "\n",
    "    The uncertainty of the starting node, minus the weighted impurity of\n",
    "    two child nodes.\n",
    "\n",
    "    Metrica may be gini impurity or entropy\n",
    "    \"\"\"\n",
    "    assert len(parent) == len(left) + len(right)\n",
    "\n",
    "    p = float(len(left)) / (len(left) + len(right))\n",
    "    return current_uncertainty - p * metrica(left) - (1 - p) * metrica(right)"
   ]
  },
  {
   "cell_type": "code",
   "execution_count": 11,
   "metadata": {},
   "outputs": [],
   "source": [
    "def find_best_split(df: pd.DataFrame, metrica: FunctionType,\n",
    "                    custom_features: np.ndarray = None):\n",
    "    \"\"\"Find the best question to ask by iterating over every feature / value\n",
    "    and calculating the information gain.\"\"\"\n",
    "\n",
    "    best_gain = 0  # keep track of the best information gain\n",
    "    best_question = None  # keep train of the feature / value that produced it\n",
    "\n",
    "    current_uncertainty = metrica(df)\n",
    "    \n",
    "    if custom_features is not None:\n",
    "        features = custom_features\n",
    "    else:\n",
    "        features = list(df)[:-1]\n",
    "\n",
    "#     print(\"len of feature = {}\".format(len(features)))\n",
    "    for feature in features:  # for each feature\n",
    "        uniq_values, count = unique_vals(df, feature)\n",
    "\n",
    "        for val in uniq_values:  # for each value\n",
    "\n",
    "            question = Question(feature, val)\n",
    "\n",
    "            # try splitting the dataset\n",
    "            true_rows, false_rows = partition(df, question)\n",
    "\n",
    "            # Skip this split if it doesn't divide the\n",
    "            # dataset.\n",
    "            if len(true_rows) == 0 or len(false_rows) == 0:\n",
    "                continue\n",
    "\n",
    "            # Calculate the information gain from this split\n",
    "            gain = info_gain(current_uncertainty, df, true_rows, false_rows,\n",
    "                             metrica)\n",
    "\n",
    "            if gain >= best_gain:\n",
    "                best_gain, best_question = gain, question\n",
    "\n",
    "    return best_gain, best_question"
   ]
  },
  {
   "cell_type": "code",
   "execution_count": 12,
   "metadata": {},
   "outputs": [],
   "source": [
    "class Leaf:\n",
    "    \"\"\"A Leaf node classifies data.\n",
    "\n",
    "    This holds a dictionary of class (e.g., \"Apple\") -> number of times\n",
    "    it appears in the rows from the training data that reach this leaf.\n",
    "    \"\"\"\n",
    "\n",
    "    def __init__(self, rows: pd.DataFrame):\n",
    "        uniq, counts = class_counts(rows)\n",
    "        self.uniq = uniq\n",
    "        self.counts = counts"
   ]
  },
  {
   "cell_type": "code",
   "execution_count": 13,
   "metadata": {},
   "outputs": [],
   "source": [
    "class Decision_Node:\n",
    "    \"\"\"A Decision Node asks a question.\n",
    "\n",
    "    This holds a reference to the question, and to the two child nodes.\n",
    "    \"\"\"\n",
    "\n",
    "    def __init__(self, question: Question, true_branch, false_branch):\n",
    "        self.question = question\n",
    "        self.true_branch = true_branch\n",
    "        self.false_branch = false_branch"
   ]
  },
  {
   "cell_type": "markdown",
   "metadata": {},
   "source": [
    "## Задание 5\n",
    "Реализуйте алгоритм Random Forest для любого типа критерия (информационный\n",
    "выигрыш или Джини) с выбором класса по сумме вероятностей. Постройте Precision-recall\n",
    "и ROC кривую для полученной вероятности на тестовой выборке"
   ]
  },
  {
   "cell_type": "code",
   "execution_count": 19,
   "metadata": {},
   "outputs": [],
   "source": [
    "def build_tree_for_forest(rows: pd.DataFrame,\n",
    "                          metrica: FunctionType,\n",
    "                          max_depth: int,\n",
    "                          size_of_feature_sample_for_node: int,\n",
    "                          all_features: list):\n",
    "    # Try partitioing the dataset on each of the unique attribute,\n",
    "    # calculate the information gain,\n",
    "    # and return the question that produces the highest gain.\n",
    "    if max_depth == 0:\n",
    "        return Leaf(rows)\n",
    "\n",
    "    # get random features\n",
    "    custom_features = random.sample(all_features, size_of_feature_sample_for_node)\n",
    "\n",
    "    gain, question = find_best_split(rows, metrica, custom_features)\n",
    "    new_depth = max_depth - 1\n",
    "\n",
    "    # Base case: no further info gain\n",
    "    epsilon = 1e-9\n",
    "    if gain < epsilon or max_depth == 0:\n",
    "        return Leaf(rows)  # recursive\n",
    "\n",
    "    # If we reach here, we have found a useful feature / value\n",
    "    # to partition on.\n",
    "    true_rows, false_rows = partition(rows, question)\n",
    "\n",
    "    # Recursively build the true branch.\n",
    "    true_branch = build_tree_for_forest(true_rows, metrica, new_depth,\n",
    "                                        size_of_feature_sample_for_node,\n",
    "                                        all_features)\n",
    "\n",
    "    # Recursively build the false branch.\n",
    "    false_branch = build_tree_for_forest(false_rows, metrica, new_depth,\n",
    "                                         size_of_feature_sample_for_node,\n",
    "                                         all_features)\n",
    "\n",
    "    # Return a Question node.\n",
    "    return Decision_Node(question, true_branch, false_branch)"
   ]
  },
  {
   "cell_type": "code",
   "execution_count": 20,
   "metadata": {},
   "outputs": [],
   "source": [
    "# generate bags and features for BAG_NUMBER tree\n",
    "\n",
    "BAGS_NUMBER = 10 # Number of trees\n",
    "bags = []\n",
    "N = len(df_train)\n",
    "# print(\"N = {}\".format(N))\n",
    "all_features = (list(df_train))[:-1] # remove label !\n",
    "import math\n",
    "\n",
    "N_FEATURES = int(math.sqrt(len(all_features)) * 1.5) # Number of features for tree\n",
    "# print(\"N_FEATURES = {}\".format(N_FEATURES))\n",
    "\n",
    "\n",
    "for i in range(BAGS_NUMBER):\n",
    "    import random\n",
    "    ixes = np.random.randint(N, size=(N))\n",
    "    bags.append(df_train.loc[ixes])\n"
   ]
  },
  {
   "cell_type": "code",
   "execution_count": 21,
   "metadata": {},
   "outputs": [
    {
     "name": "stdout",
     "output_type": "stream",
     "text": [
      "10\n"
     ]
    }
   ],
   "source": [
    "# generate trees for every trainig bag\n",
    "def random_forest_gen_gini(args):\n",
    "    import datetime\n",
    "    (tree_no, max_depth, bag) = args\n",
    "    print(\"random_forest_gen_gini{} started at {}\".format(tree_no, datetime.datetime.utcnow()))\n",
    "    tree = build_tree_for_forest(bag, gini, max_depth, N_FEATURES, all_features)\n",
    "    print(\"random_forest_gen_gini tree {} done at {}\".format(tree_no, datetime.datetime.utcnow()))\n",
    "    return tree\n",
    "\n",
    "\n",
    "forest = None\n",
    "MAX_DEPTH = 10\n",
    "arguments = [(tree_no, MAX_DEPTH, bags[tree_no]) for tree_no in\n",
    "             range(len(bags))]\n",
    "print(len(arguments))\n",
    "# import random\n",
    "# random.sample(all_features, k=5)"
   ]
  },
  {
   "cell_type": "code",
   "execution_count": 26,
   "metadata": {},
   "outputs": [
    {
     "name": "stdout",
     "output_type": "stream",
     "text": [
      "Will create 10 trees\n",
      "random_forest_gen_gini0 started at 2018-04-12 01:19:46.574968\n",
      "random_forest_gen_gini1 started at 2018-04-12 01:19:46.580590\n",
      "random_forest_gen_gini2 started at 2018-04-12 01:19:46.585080\n",
      "random_forest_gen_gini3 started at 2018-04-12 01:19:46.593863\n",
      "random_forest_gen_gini5 started at 2018-04-12 01:19:46.613849\n",
      "random_forest_gen_gini4 started at 2018-04-12 01:19:46.603750\n",
      "random_forest_gen_gini7 started at 2018-04-12 01:19:46.646017\n",
      "random_forest_gen_gini6 started at 2018-04-12 01:19:46.627379\n",
      "random_forest_gen_gini tree 7 done at 2018-04-12 01:21:21.942151\n",
      "random_forest_gen_gini8 started at 2018-04-12 01:21:22.016533\n",
      "random_forest_gen_gini tree 0 done at 2018-04-12 01:21:32.244413\n",
      "random_forest_gen_gini9 started at 2018-04-12 01:21:32.285215\n",
      "random_forest_gen_gini tree 1 done at 2018-04-12 01:21:38.125518\n",
      "random_forest_gen_gini tree 3 done at 2018-04-12 01:21:42.303525\n",
      "random_forest_gen_gini tree 5 done at 2018-04-12 01:21:43.235544\n",
      "random_forest_gen_gini tree 2 done at 2018-04-12 01:21:47.700988\n",
      "random_forest_gen_gini tree 4 done at 2018-04-12 01:21:47.941209\n",
      "random_forest_gen_gini tree 6 done at 2018-04-12 01:21:49.155709\n",
      "random_forest_gen_gini tree 8 done at 2018-04-12 01:22:34.091052\n",
      "random_forest_gen_gini tree 9 done at 2018-04-12 01:22:38.335265\n",
      "# done\n"
     ]
    }
   ],
   "source": [
    "print(\"Will create {} trees\".format(len(arguments)))\n",
    "with multiprocessing.Pool(processes=multiprocessing.cpu_count()) as p:\n",
    "    forest = p.map(random_forest_gen_gini, arguments)\n",
    "\n",
    "print(\"# done\")"
   ]
  },
  {
   "cell_type": "code",
   "execution_count": 27,
   "metadata": {},
   "outputs": [],
   "source": [
    "def evaluate_forest(df: pd.DataFrame, trees: list) -> np.ndarray:\n",
    "    def classify_for_forest(row: np.ndarray, node) -> float:\n",
    "        # Base case: we've reached a leaf\n",
    "        if isinstance(node, Leaf):\n",
    "            prob = None\n",
    "            if len(node.counts) == 1:\n",
    "                return float(node.uniq[0] == 1)  # 1.0 or 0.0\n",
    "            \n",
    "#             elif node.counts[0] >= node.counts[1]:\n",
    "#                 total = node.counts.sum()\n",
    "#                 prob = node.counts[0] / total\n",
    "#             else:\n",
    "\n",
    "            total = node.counts.sum()\n",
    "            prob = node.counts[1] / total\n",
    "            return prob\n",
    "\n",
    "        # Decide whether to follow the true-branch or the false-branch.\n",
    "        # Compare the feature / value stored in the node,\n",
    "        # to the example we're considering.\n",
    "        if node.question.match(row):\n",
    "            return classify_for_forest(row, node.true_branch)\n",
    "        else:\n",
    "            return classify_for_forest(row, node.false_branch)\n",
    "\n",
    "    def function_wrapper(row: np.ndarray) -> float:\n",
    "        # redo classification\n",
    "        sum_prob = 0.0\n",
    "        for tr in trees:\n",
    "            sum_prob += classify_for_forest(row, tr)\n",
    "        return sum_prob / len(trees)\n",
    "\n",
    "    return df.apply(function_wrapper, axis=1)"
   ]
  },
  {
   "cell_type": "code",
   "execution_count": 28,
   "metadata": {},
   "outputs": [],
   "source": [
    "# *_list - is list of lists of points\n",
    "def draw_curves(prec_list: list, rec_list: list,\n",
    "                fpr_list: list, tpr_list: list):\n",
    "    # plot all\n",
    "    plt.axis([0, 1, 0, 1])\n",
    "    plt.xlabel(\"Recall\")\n",
    "    plt.ylabel(\"Precision\")\n",
    "\n",
    "    for i in range(len(prec_list)):\n",
    "        plt.plot(rec_list[i], prec_list[i], label=\"{}\".format(i))\n",
    "    plt.legend(bbox_to_anchor=(1.05, 1), loc=2, borderaxespad=0.)\n",
    "    plt.show()\n",
    "\n",
    "    plt.title('ROC curve', fontsize=10)\n",
    "    plt.plot([0, 1], [0, 1], 'r--')\n",
    "    plt.xlim([0, 1])\n",
    "    plt.ylim([0, 1])\n",
    "    plt.ylabel('True Positive Rate')\n",
    "    plt.xlabel('False Positive Rate')\n",
    "\n",
    "    for i in range(len(fpr_list)):\n",
    "        roc_auc = auc(fpr_list[i], tpr_list[i])\n",
    "        plt.plot(fpr_list[i], tpr_list[i], label=\"with auc={}\".format(roc_auc))\n",
    "\n",
    "    plt.legend(bbox_to_anchor=(1.05, 1), loc=2, borderaxespad=0.)\n",
    "    plt.show()\n",
    "\n",
    "\n",
    "def gen_data_for_roc(results: np.ndarray, labels: np.ndarray, steps = 100):\n",
    "    y = labels == 1\n",
    "    STEPS = steps\n",
    "\n",
    "    prec_list = []\n",
    "    rec_list = []\n",
    "    tpr_list = []\n",
    "    fpr_list = []\n",
    "\n",
    "    step = 1.0 / STEPS\n",
    "    a = 0.0001\n",
    "    TP = []\n",
    "    FP = []\n",
    "    TN = []\n",
    "    FN = []\n",
    "\n",
    "    for i in range(STEPS):\n",
    "        Rx = (results >= a)\n",
    "        tp, fp, tn, fn = get_metriks(Rx, y)\n",
    "        TP.append(tp)\n",
    "        FP.append(fp)\n",
    "        TN.append(tn)\n",
    "        FN.append(fn)\n",
    "\n",
    "        a += step\n",
    "\n",
    "    TP = np.asarray(TP)\n",
    "    FP = np.asarray(FP)\n",
    "    TN = np.asarray(TN)\n",
    "    FN = np.asarray(FN)\n",
    "\n",
    "    precision = TP / (TP + FP)\n",
    "    recall = TP / (TP + FN)\n",
    "    tpr = recall\n",
    "    fpr = FP / (FP + TN)\n",
    "\n",
    "    prec_list.append(precision)\n",
    "    rec_list.append(recall)\n",
    "    tpr_list.append(tpr)\n",
    "    fpr_list.append(fpr)\n",
    "    \n",
    "    return prec_list, rec_list, tpr_list, fpr_list"
   ]
  },
  {
   "cell_type": "code",
   "execution_count": 29,
   "metadata": {},
   "outputs": [],
   "source": [
    "forest_prob_array = evaluate_forest(df_test, forest)\n",
    "\n",
    "# np.seterr(divide='ignore', invalid='ignore')\n",
    "precision, recall, tpr_list, fpr_list = gen_data_for_roc(forest_prob_array, df_test['label'], 10000)"
   ]
  },
  {
   "cell_type": "code",
   "execution_count": 205,
   "metadata": {},
   "outputs": [
    {
     "data": {
      "text/plain": [
       "array([ 1.,  1.,  1., ...,  0.,  0.,  0.])"
      ]
     },
     "execution_count": 205,
     "metadata": {},
     "output_type": "execute_result"
    }
   ],
   "source": []
  },
  {
   "cell_type": "markdown",
   "metadata": {},
   "source": [
    "Результат для 10 деревьев, максимальная глубина = 10."
   ]
  },
  {
   "cell_type": "code",
   "execution_count": 30,
   "metadata": {},
   "outputs": [
    {
     "data": {
      "image/png": "[encoded data removed]",
      "text/plain": [
       "<Figure size 432x288 with 1 Axes>"
      ]
     },
     "metadata": {},
     "output_type": "display_data"
    },
    {
     "data": {
      "image/png": "[encoded data removed]",
      "text/plain": [
       "<Figure size 432x288 with 1 Axes>"
      ]
     },
     "metadata": {},
     "output_type": "display_data"
    }
   ],
   "source": [
    "draw_curves(precision, recall, fpr_list, tpr_list)"
   ]
  },
  {
   "cell_type": "code",
   "execution_count": null,
   "metadata": {},
   "outputs": [],
   "source": []
  },
  {
   "cell_type": "code",
   "execution_count": null,
   "metadata": {},
   "outputs": [],
   "source": []
  },
  {
   "cell_type": "markdown",
   "metadata": {},
   "source": [
    "## Задание 6\n",
    "Оптимизируйте по AUC на тестовой выборке параметры Random Forest: максимальную\n",
    "глубину деревьев (в отрезке 2-10), количество деревьев (5, 10, 20, 30, 50, 100, 200, 300). В\n",
    "этой задаче разумно зафиксировать Random Seed. Постройте Precision-recall и ROC кривую\n",
    "для лучшего варианта."
   ]
  },
  {
   "cell_type": "markdown",
   "metadata": {},
   "source": [
    "Сгенерируем по 50 деревьев на каждую глубину (то есть 400 деревьев в сумме).\n",
    "Двух часов должно хватить.\n"
   ]
  },
  {
   "cell_type": "code",
   "execution_count": null,
   "metadata": {},
   "outputs": [],
   "source": []
  },
  {
   "cell_type": "code",
   "execution_count": 35,
   "metadata": {},
   "outputs": [],
   "source": [
    "# generate bags and features for BAG_NUMBER trees\n",
    "\n",
    "TREES_NUM = 50\n",
    "DEPTH_NUMBER = 9\n",
    "BAGS_NUMBER = TREES_NUM * DEPTH_NUMBER # Number of trees\n",
    "bags = []\n",
    "N = len(df_train)\n",
    "# print(\"N = {}\".format(N))\n",
    "all_features = (list(df_train))[:-1] # remove label !\n",
    "import math\n",
    "\n",
    "# Number of features for tree - set of random features for every node\n",
    "N_FEATURES = int(math.sqrt(len(all_features)) * 1.2) \n",
    "# print(\"N_FEATURES = {}\".format(N_FEATURES))\n",
    "\n",
    "\n",
    "for i in range(BAGS_NUMBER):\n",
    "    import random\n",
    "    ixes = np.random.randint(N, size=(N))\n",
    "    bags.append(df_train.loc[ixes])\n"
   ]
  },
  {
   "cell_type": "code",
   "execution_count": 36,
   "metadata": {},
   "outputs": [],
   "source": [
    "big_forests = {} # { (max_depth, tree)}\n",
    "arguments = [] # list of lists\n",
    "\n",
    "for max_depth in range(2,11):\n",
    "    bag_begin_with_ix = (max_depth - 2) * TREES_NUM\n",
    "    arguments.append([(tree_no, max_depth, bags[bag_begin_with_ix + tree_no]) for tree_no in range(TREES_NUM)])"
   ]
  },
  {
   "cell_type": "markdown",
   "metadata": {},
   "source": [
    "Надо выбрать лучшую пару (depth, number_of_trees) по auc"
   ]
  },
  {
   "cell_type": "code",
   "execution_count": 39,
   "metadata": {},
   "outputs": [
    {
     "name": "stdout",
     "output_type": "stream",
     "text": [
      "Max param: max_depth = 10, num_of_trees = 25, auc = 0.9876660901014231 \n"
     ]
    },
    {
     "data": {
      "image/png": "[encoded data removed]",
      "text/plain": [
       "<Figure size 432x288 with 1 Axes>"
      ]
     },
     "metadata": {},
     "output_type": "display_data"
    },
    {
     "data": {
      "image/png": "[encoded data removed]",
      "text/plain": [
       "<Figure size 432x288 with 1 Axes>"
      ]
     },
     "metadata": {},
     "output_type": "display_data"
    }
   ],
   "source": [
    "max_depth, num_of_trees, cur_tree_list, cur_aucv = max(stats, key=lambda tpl: tpl[3])\n",
    "print(\"Max param: max_depth = {}, num_of_trees = {}, auc = {} \".format(max_depth, num_of_trees, cur_aucv))\n",
    "forest_prob_array = evaluate_forest(df_test, cur_tree_list)\n",
    "# np.seterr(divide='ignore', invalid='ignore')\n",
    "precision, recall, tpr_list, fpr_list = gen_data_for_roc(forest_prob_array, df_test['label'], 100)\n",
    "draw_curves(precision, recall, fpr_list, tpr_list)"
   ]
  },
  {
   "cell_type": "code",
   "execution_count": null,
   "metadata": {},
   "outputs": [],
   "source": []
  },
  {
   "cell_type": "markdown",
   "metadata": {},
   "source": [
    "#### Проверим, какие будут отличия, если не делать фичэ беггинг"
   ]
  },
  {
   "cell_type": "code",
   "execution_count": 40,
   "metadata": {},
   "outputs": [],
   "source": [
    "def build_tree_for_forest_all_features(rows: pd.DataFrame,\n",
    "                          metrica: FunctionType,\n",
    "                          max_depth: int,\n",
    "                          size_of_feature_sample_for_node: int,\n",
    "                          all_features: list):\n",
    "    # Try partitioing the dataset on each of the unique attribute,\n",
    "    # calculate the information gain,\n",
    "    # and return the question that produces the highest gain.\n",
    "    if max_depth == 0:\n",
    "        return Leaf(rows)\n",
    "\n",
    "    \n",
    "    custom_features = all_features\n",
    "\n",
    "    gain, question = find_best_split(rows, metrica, custom_features)\n",
    "    new_depth = max_depth - 1\n",
    "\n",
    "    # Base case: no further info gain\n",
    "    epsilon = 1e-9\n",
    "    if gain < epsilon or max_depth == 0:\n",
    "        return Leaf(rows)  # recursive\n",
    "\n",
    "    # If we reach here, we have found a useful feature / value\n",
    "    # to partition on.\n",
    "    true_rows, false_rows = partition(rows, question)\n",
    "\n",
    "    # Recursively build the true branch.\n",
    "    true_branch = build_tree_for_forest(true_rows, metrica, new_depth,\n",
    "                                        size_of_feature_sample_for_node,\n",
    "                                        all_features)\n",
    "\n",
    "    # Recursively build the false branch.\n",
    "    false_branch = build_tree_for_forest(false_rows, metrica, new_depth,\n",
    "                                         size_of_feature_sample_for_node,\n",
    "                                         all_features)\n",
    "\n",
    "    # Return a Question node.\n",
    "    return Decision_Node(question, true_branch, false_branch)\n",
    "\n",
    "# generate trees for every trainig bag\n",
    "def random_forest_gen_gini2(args):\n",
    "    import datetime\n",
    "    (tree_no, max_depth, bag) = args\n",
    "    print(\"random_forest_gen_gini{} started at {}\".format(tree_no, datetime.datetime.utcnow()))\n",
    "    tree = build_tree_for_forest_all_features(bag, gini, max_depth, N_FEATURES, all_features)\n",
    "    print(\"random_forest_gen_gini tree {} done at {}\".format(tree_no, datetime.datetime.utcnow()))\n",
    "    return tree"
   ]
  },
  {
   "cell_type": "code",
   "execution_count": 41,
   "metadata": {},
   "outputs": [],
   "source": [
    "big_forests2 = {} # { (max_depth, tree)}\n",
    "arguments2 = [] # list of lists\n",
    "\n",
    "for max_depth in range(2,11):\n",
    "    bag_begin_with_ix = (max_depth - 2) * TREES_NUM\n",
    "    arguments2.append([(tree_no, max_depth, bags[bag_begin_with_ix + tree_no]) for tree_no in range(TREES_NUM)])"
   ]
  },
  {
   "cell_type": "code",
   "execution_count": null,
   "metadata": {},
   "outputs": [],
   "source": []
  },
  {
   "cell_type": "code",
   "execution_count": 44,
   "metadata": {},
   "outputs": [
    {
     "name": "stdout",
     "output_type": "stream",
     "text": [
      "Max param: max_depth = 10, num_of_trees = 45, auc = 0.9868872356317321 \n"
     ]
    },
    {
     "data": {
      "image/png": "[encoded data removed]",
      "text/plain": [
       "<Figure size 432x288 with 1 Axes>"
      ]
     },
     "metadata": {},
     "output_type": "display_data"
    },
    {
     "data": {
      "image/png": "[encoded data removed]",
      "text/plain": [
       "<Figure size 432x288 with 1 Axes>"
      ]
     },
     "metadata": {},
     "output_type": "display_data"
    }
   ],
   "source": [
    "max_depth, num_of_trees, cur_tree_list, cur_aucv = max(stats2, key=lambda tpl: tpl[3])\n",
    "print(\"Max param: max_depth = {}, num_of_trees = {}, auc = {} \".format(max_depth, num_of_trees, cur_aucv))\n",
    "forest_prob_array = evaluate_forest(df_test, cur_tree_list)\n",
    "# np.seterr(divide='ignore', invalid='ignore')\n",
    "precision, recall, tpr_list, fpr_list = gen_data_for_roc(forest_prob_array, df_test['label'], 100)\n",
    "draw_curves(precision, recall, fpr_list, tpr_list)"
   ]
  },
  {
   "cell_type": "code",
   "execution_count": null,
   "metadata": {},
   "outputs": [],
   "source": []
  }
 ],
 "metadata": {
  "kernelspec": {
   "display_name": "Python 3",
   "language": "python",
   "name": "python3"
  },
  "language_info": {
   "codemirror_mode": {
    "name": "ipython",
    "version": 3
   },
   "file_extension": ".py",
   "mimetype": "text/x-python",
   "name": "python",
   "nbconvert_exporter": "python",
   "pygments_lexer": "ipython3",
   "version": "3.6.3"
  }
 },
 "nbformat": 4,
 "nbformat_minor": 2
}
